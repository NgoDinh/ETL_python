{
 "cells": [
  {
   "cell_type": "code",
   "execution_count": 1,
   "id": "9f775212-3685-4e95-ac15-b7a017bb73bc",
   "metadata": {},
   "outputs": [
    {
     "name": "stdout",
     "output_type": "stream",
     "text": [
      "https://hq.appsflyer.com/export/com.vui.taptapandroid/organic_in_app_events_report/v5?api_token=f3a280b5-1a55-4a4d-b2c2-1fba22662a13&from=2021-09-22&to=2021-09-22&timezone=Asia%2fHo_Chi_Minh&additional_fields=device_model,keyword_id,store_reinstall,deeplink_url,oaid,amazon_aid,keyword_match_type,att,conversion_type,campaign_type&maximum_rows=1000000\n"
     ]
    },
    {
     "name": "stderr",
     "output_type": "stream",
     "text": [
      "C:\\Users\\vu.d.ngo\\anaconda3\\lib\\site-packages\\IPython\\core\\interactiveshell.py:3165: DtypeWarning: Columns (51,61) have mixed types.Specify dtype option on import or set low_memory=False.\n",
      "  has_raised = await self.run_ast_nodes(code_ast.body, cell_name,\n"
     ]
    },
    {
     "name": "stdout",
     "output_type": "stream",
     "text": [
      "taptap-c2c5f.manual_dwh.appflyer_event_organic_android_20210922\n",
      "LoadJob<project=taptap-c2c5f, location=US, id=e6b84eba-4359-43f4-9358-59bd8d4e3768>\n",
      "https://hq.appsflyer.com/export/com.vui.taptapandroid/organic_in_app_events_report/v5?api_token=f3a280b5-1a55-4a4d-b2c2-1fba22662a13&from=2021-09-21&to=2021-09-21&timezone=Asia%2fHo_Chi_Minh&additional_fields=device_model,keyword_id,store_reinstall,deeplink_url,oaid,amazon_aid,keyword_match_type,att,conversion_type,campaign_type&maximum_rows=1000000\n",
      "taptap-c2c5f.manual_dwh.appflyer_event_organic_android_20210921\n",
      "LoadJob<project=taptap-c2c5f, location=US, id=722fb521-6f03-4654-97ae-b42386140dfc>\n",
      "https://hq.appsflyer.com/export/com.vui.taptapandroid/organic_in_app_events_report/v5?api_token=f3a280b5-1a55-4a4d-b2c2-1fba22662a13&from=2021-09-20&to=2021-09-20&timezone=Asia%2fHo_Chi_Minh&additional_fields=device_model,keyword_id,store_reinstall,deeplink_url,oaid,amazon_aid,keyword_match_type,att,conversion_type,campaign_type&maximum_rows=1000000\n",
      "taptap-c2c5f.manual_dwh.appflyer_event_organic_android_20210920\n"
     ]
    },
    {
     "ename": "BadRequest",
     "evalue": "400 POST https://bigquery.googleapis.com/upload/bigquery/v2/projects/taptap-c2c5f/jobs?uploadType=multipart: Invalid field name \"Raw_Reports_historical_lookback_is_limited_to_90_days._For_p360_clients\". Fields must contain only letters, numbers, and underscores, start with a letter or underscore, and be at most 300 characters long.",
     "output_type": "error",
     "traceback": [
      "\u001b[1;31m---------------------------------------------------------------------------\u001b[0m",
      "\u001b[1;31mInvalidResponse\u001b[0m                           Traceback (most recent call last)",
      "\u001b[1;32m~\\anaconda3\\lib\\site-packages\\google\\cloud\\bigquery\\client.py\u001b[0m in \u001b[0;36mload_table_from_file\u001b[1;34m(self, file_obj, destination, rewind, size, num_retries, job_id, job_id_prefix, location, project, job_config, timeout)\u001b[0m\n\u001b[0;32m   2435\u001b[0m             \u001b[1;32melse\u001b[0m\u001b[1;33m:\u001b[0m\u001b[1;33m\u001b[0m\u001b[1;33m\u001b[0m\u001b[0m\n\u001b[1;32m-> 2436\u001b[1;33m                 response = self._do_multipart_upload(\n\u001b[0m\u001b[0;32m   2437\u001b[0m                     \u001b[0mfile_obj\u001b[0m\u001b[1;33m,\u001b[0m \u001b[0mjob_resource\u001b[0m\u001b[1;33m,\u001b[0m \u001b[0msize\u001b[0m\u001b[1;33m,\u001b[0m \u001b[0mnum_retries\u001b[0m\u001b[1;33m,\u001b[0m \u001b[0mtimeout\u001b[0m\u001b[1;33m,\u001b[0m \u001b[0mproject\u001b[0m\u001b[1;33m=\u001b[0m\u001b[0mproject\u001b[0m\u001b[1;33m\u001b[0m\u001b[1;33m\u001b[0m\u001b[0m\n",
      "\u001b[1;32m~\\anaconda3\\lib\\site-packages\\google\\cloud\\bigquery\\client.py\u001b[0m in \u001b[0;36m_do_multipart_upload\u001b[1;34m(self, stream, metadata, size, num_retries, timeout, project)\u001b[0m\n\u001b[0;32m   2975\u001b[0m \u001b[1;33m\u001b[0m\u001b[0m\n\u001b[1;32m-> 2976\u001b[1;33m         response = upload.transmit(\n\u001b[0m\u001b[0;32m   2977\u001b[0m             \u001b[0mself\u001b[0m\u001b[1;33m.\u001b[0m\u001b[0m_http\u001b[0m\u001b[1;33m,\u001b[0m \u001b[0mdata\u001b[0m\u001b[1;33m,\u001b[0m \u001b[0mmetadata\u001b[0m\u001b[1;33m,\u001b[0m \u001b[0m_GENERIC_CONTENT_TYPE\u001b[0m\u001b[1;33m,\u001b[0m \u001b[0mtimeout\u001b[0m\u001b[1;33m=\u001b[0m\u001b[0mtimeout\u001b[0m\u001b[1;33m\u001b[0m\u001b[1;33m\u001b[0m\u001b[0m\n",
      "\u001b[1;32m~\\anaconda3\\lib\\site-packages\\google\\resumable_media\\requests\\upload.py\u001b[0m in \u001b[0;36mtransmit\u001b[1;34m(self, transport, data, metadata, content_type, timeout)\u001b[0m\n\u001b[0;32m    152\u001b[0m \u001b[1;33m\u001b[0m\u001b[0m\n\u001b[1;32m--> 153\u001b[1;33m         return _request_helpers.wait_and_retry(\n\u001b[0m\u001b[0;32m    154\u001b[0m             \u001b[0mretriable_request\u001b[0m\u001b[1;33m,\u001b[0m \u001b[0mself\u001b[0m\u001b[1;33m.\u001b[0m\u001b[0m_get_status_code\u001b[0m\u001b[1;33m,\u001b[0m \u001b[0mself\u001b[0m\u001b[1;33m.\u001b[0m\u001b[0m_retry_strategy\u001b[0m\u001b[1;33m\u001b[0m\u001b[1;33m\u001b[0m\u001b[0m\n",
      "\u001b[1;32m~\\anaconda3\\lib\\site-packages\\google\\resumable_media\\requests\\_request_helpers.py\u001b[0m in \u001b[0;36mwait_and_retry\u001b[1;34m(func, get_status_code, retry_strategy)\u001b[0m\n\u001b[0;32m    146\u001b[0m         \u001b[1;32mtry\u001b[0m\u001b[1;33m:\u001b[0m\u001b[1;33m\u001b[0m\u001b[1;33m\u001b[0m\u001b[0m\n\u001b[1;32m--> 147\u001b[1;33m             \u001b[0mresponse\u001b[0m \u001b[1;33m=\u001b[0m \u001b[0mfunc\u001b[0m\u001b[1;33m(\u001b[0m\u001b[1;33m)\u001b[0m\u001b[1;33m\u001b[0m\u001b[1;33m\u001b[0m\u001b[0m\n\u001b[0m\u001b[0;32m    148\u001b[0m         \u001b[1;32mexcept\u001b[0m \u001b[0m_CONNECTION_ERROR_CLASSES\u001b[0m \u001b[1;32mas\u001b[0m \u001b[0me\u001b[0m\u001b[1;33m:\u001b[0m\u001b[1;33m\u001b[0m\u001b[1;33m\u001b[0m\u001b[0m\n",
      "\u001b[1;32m~\\anaconda3\\lib\\site-packages\\google\\resumable_media\\requests\\upload.py\u001b[0m in \u001b[0;36mretriable_request\u001b[1;34m()\u001b[0m\n\u001b[0;32m    148\u001b[0m \u001b[1;33m\u001b[0m\u001b[0m\n\u001b[1;32m--> 149\u001b[1;33m             \u001b[0mself\u001b[0m\u001b[1;33m.\u001b[0m\u001b[0m_process_response\u001b[0m\u001b[1;33m(\u001b[0m\u001b[0mresult\u001b[0m\u001b[1;33m)\u001b[0m\u001b[1;33m\u001b[0m\u001b[1;33m\u001b[0m\u001b[0m\n\u001b[0m\u001b[0;32m    150\u001b[0m \u001b[1;33m\u001b[0m\u001b[0m\n",
      "\u001b[1;32m~\\anaconda3\\lib\\site-packages\\google\\resumable_media\\_upload.py\u001b[0m in \u001b[0;36m_process_response\u001b[1;34m(self, response)\u001b[0m\n\u001b[0;32m    112\u001b[0m         \u001b[0mself\u001b[0m\u001b[1;33m.\u001b[0m\u001b[0m_finished\u001b[0m \u001b[1;33m=\u001b[0m \u001b[1;32mTrue\u001b[0m\u001b[1;33m\u001b[0m\u001b[1;33m\u001b[0m\u001b[0m\n\u001b[1;32m--> 113\u001b[1;33m         \u001b[0m_helpers\u001b[0m\u001b[1;33m.\u001b[0m\u001b[0mrequire_status_code\u001b[0m\u001b[1;33m(\u001b[0m\u001b[0mresponse\u001b[0m\u001b[1;33m,\u001b[0m \u001b[1;33m(\u001b[0m\u001b[0mhttp\u001b[0m\u001b[1;33m.\u001b[0m\u001b[0mclient\u001b[0m\u001b[1;33m.\u001b[0m\u001b[0mOK\u001b[0m\u001b[1;33m,\u001b[0m\u001b[1;33m)\u001b[0m\u001b[1;33m,\u001b[0m \u001b[0mself\u001b[0m\u001b[1;33m.\u001b[0m\u001b[0m_get_status_code\u001b[0m\u001b[1;33m)\u001b[0m\u001b[1;33m\u001b[0m\u001b[1;33m\u001b[0m\u001b[0m\n\u001b[0m\u001b[0;32m    114\u001b[0m \u001b[1;33m\u001b[0m\u001b[0m\n",
      "\u001b[1;32m~\\anaconda3\\lib\\site-packages\\google\\resumable_media\\_helpers.py\u001b[0m in \u001b[0;36mrequire_status_code\u001b[1;34m(response, status_codes, get_status_code, callback)\u001b[0m\n\u001b[0;32m     98\u001b[0m             \u001b[0mcallback\u001b[0m\u001b[1;33m(\u001b[0m\u001b[1;33m)\u001b[0m\u001b[1;33m\u001b[0m\u001b[1;33m\u001b[0m\u001b[0m\n\u001b[1;32m---> 99\u001b[1;33m         raise common.InvalidResponse(\n\u001b[0m\u001b[0;32m    100\u001b[0m             \u001b[0mresponse\u001b[0m\u001b[1;33m,\u001b[0m\u001b[1;33m\u001b[0m\u001b[1;33m\u001b[0m\u001b[0m\n",
      "\u001b[1;31mInvalidResponse\u001b[0m: ('Request failed with status code', 400, 'Expected one of', <HTTPStatus.OK: 200>)",
      "\nDuring handling of the above exception, another exception occurred:\n",
      "\u001b[1;31mBadRequest\u001b[0m                                Traceback (most recent call last)",
      "\u001b[1;32m<ipython-input-1-5eb282e96a54>\u001b[0m in \u001b[0;36m<module>\u001b[1;34m\u001b[0m\n\u001b[0;32m     37\u001b[0m         \u001b[0mtable_id\u001b[0m \u001b[1;33m=\u001b[0m \u001b[0mprefix\u001b[0m \u001b[1;33m+\u001b[0m \u001b[0minput_date\u001b[0m\u001b[1;33m.\u001b[0m\u001b[0mreplace\u001b[0m\u001b[1;33m(\u001b[0m\u001b[1;34m\"-\"\u001b[0m\u001b[1;33m,\u001b[0m\u001b[1;34m\"\"\u001b[0m\u001b[1;33m,\u001b[0m\u001b[1;36m2\u001b[0m\u001b[1;33m)\u001b[0m\u001b[1;33m\u001b[0m\u001b[1;33m\u001b[0m\u001b[0m\n\u001b[0;32m     38\u001b[0m         \u001b[0mprint\u001b[0m\u001b[1;33m(\u001b[0m\u001b[0mtable_id\u001b[0m\u001b[1;33m)\u001b[0m\u001b[1;33m\u001b[0m\u001b[1;33m\u001b[0m\u001b[0m\n\u001b[1;32m---> 39\u001b[1;33m         job = client.load_table_from_json(\n\u001b[0m\u001b[0;32m     40\u001b[0m             \u001b[0mjson_list\u001b[0m\u001b[1;33m,\u001b[0m \u001b[0mtable_id\u001b[0m\u001b[1;33m,\u001b[0m \u001b[0mjob_config\u001b[0m\u001b[1;33m=\u001b[0m\u001b[0mjob_config\u001b[0m\u001b[1;33m\u001b[0m\u001b[1;33m\u001b[0m\u001b[0m\n\u001b[0;32m     41\u001b[0m         ) \n",
      "\u001b[1;32m~\\anaconda3\\lib\\site-packages\\google\\cloud\\bigquery\\client.py\u001b[0m in \u001b[0;36mload_table_from_json\u001b[1;34m(self, json_rows, destination, num_retries, job_id, job_id_prefix, location, project, job_config, timeout)\u001b[0m\n\u001b[0;32m   2796\u001b[0m         \u001b[0mencoded_str\u001b[0m \u001b[1;33m=\u001b[0m \u001b[0mdata_str\u001b[0m\u001b[1;33m.\u001b[0m\u001b[0mencode\u001b[0m\u001b[1;33m(\u001b[0m\u001b[1;33m)\u001b[0m\u001b[1;33m\u001b[0m\u001b[1;33m\u001b[0m\u001b[0m\n\u001b[0;32m   2797\u001b[0m         \u001b[0mdata_file\u001b[0m \u001b[1;33m=\u001b[0m \u001b[0mio\u001b[0m\u001b[1;33m.\u001b[0m\u001b[0mBytesIO\u001b[0m\u001b[1;33m(\u001b[0m\u001b[0mencoded_str\u001b[0m\u001b[1;33m)\u001b[0m\u001b[1;33m\u001b[0m\u001b[1;33m\u001b[0m\u001b[0m\n\u001b[1;32m-> 2798\u001b[1;33m         return self.load_table_from_file(\n\u001b[0m\u001b[0;32m   2799\u001b[0m             \u001b[0mdata_file\u001b[0m\u001b[1;33m,\u001b[0m\u001b[1;33m\u001b[0m\u001b[1;33m\u001b[0m\u001b[0m\n\u001b[0;32m   2800\u001b[0m             \u001b[0mdestination\u001b[0m\u001b[1;33m,\u001b[0m\u001b[1;33m\u001b[0m\u001b[1;33m\u001b[0m\u001b[0m\n",
      "\u001b[1;32m~\\anaconda3\\lib\\site-packages\\google\\cloud\\bigquery\\client.py\u001b[0m in \u001b[0;36mload_table_from_file\u001b[1;34m(self, file_obj, destination, rewind, size, num_retries, job_id, job_id_prefix, location, project, job_config, timeout)\u001b[0m\n\u001b[0;32m   2438\u001b[0m                 )\n\u001b[0;32m   2439\u001b[0m         \u001b[1;32mexcept\u001b[0m \u001b[0mresumable_media\u001b[0m\u001b[1;33m.\u001b[0m\u001b[0mInvalidResponse\u001b[0m \u001b[1;32mas\u001b[0m \u001b[0mexc\u001b[0m\u001b[1;33m:\u001b[0m\u001b[1;33m\u001b[0m\u001b[1;33m\u001b[0m\u001b[0m\n\u001b[1;32m-> 2440\u001b[1;33m             \u001b[1;32mraise\u001b[0m \u001b[0mexceptions\u001b[0m\u001b[1;33m.\u001b[0m\u001b[0mfrom_http_response\u001b[0m\u001b[1;33m(\u001b[0m\u001b[0mexc\u001b[0m\u001b[1;33m.\u001b[0m\u001b[0mresponse\u001b[0m\u001b[1;33m)\u001b[0m\u001b[1;33m\u001b[0m\u001b[1;33m\u001b[0m\u001b[0m\n\u001b[0m\u001b[0;32m   2441\u001b[0m \u001b[1;33m\u001b[0m\u001b[0m\n\u001b[0;32m   2442\u001b[0m         \u001b[1;32mreturn\u001b[0m \u001b[0mself\u001b[0m\u001b[1;33m.\u001b[0m\u001b[0mjob_from_resource\u001b[0m\u001b[1;33m(\u001b[0m\u001b[0mresponse\u001b[0m\u001b[1;33m.\u001b[0m\u001b[0mjson\u001b[0m\u001b[1;33m(\u001b[0m\u001b[1;33m)\u001b[0m\u001b[1;33m)\u001b[0m\u001b[1;33m\u001b[0m\u001b[1;33m\u001b[0m\u001b[0m\n",
      "\u001b[1;31mBadRequest\u001b[0m: 400 POST https://bigquery.googleapis.com/upload/bigquery/v2/projects/taptap-c2c5f/jobs?uploadType=multipart: Invalid field name \"Raw_Reports_historical_lookback_is_limited_to_90_days._For_p360_clients\". Fields must contain only letters, numbers, and underscores, start with a letter or underscore, and be at most 300 characters long."
     ]
    }
   ],
   "source": [
    "import io\n",
    "import json\n",
    "import requests\n",
    "import pandas as pd\n",
    "from google.cloud import bigquery\n",
    "from datetime import datetime, timedelta\n",
    "\n",
    "for x in range(120):\n",
    "    if x>=91:\n",
    "        d = datetime.today() - timedelta(days=x+1)\n",
    "        input_date = d.strftime(\"%Y-%m-%d\")\n",
    "\n",
    "        base_url = \"url\" \n",
    "        url = base_url.replace(\"input_date\", input_date, 2)\n",
    "        print(url)\n",
    "        re = requests.get(url)\n",
    "        data = re.content\n",
    "        df = pd.read_csv(io.StringIO(data.decode('utf-8')))\n",
    "        new_col_name = []\n",
    "        schema = []\n",
    "        for name in df.columns:\n",
    "            new_col_name.append(\"_\".join(name.split(\" \")))\n",
    "            schema.append(bigquery.SchemaField(\"_\".join(name.split(\" \")), bigquery.enums.SqlTypeNames.STRING))\n",
    "        df.columns = new_col_name\n",
    "        result = df.to_json(orient=\"records\")\n",
    "        json_list = json.loads(result)\n",
    "        for i in json_list:\n",
    "            for key in i.keys():\n",
    "                i[key] = str(i[key])\n",
    "\n",
    "    #     schema = []\n",
    "    #     for name in df.columns:\n",
    "    #         schema.append(bigquery.SchemaField(\"_\".join(name.split(\" \")), bigquery.enums.SqlTypeNames.STRING))\n",
    "        job_config = bigquery.LoadJobConfig(schema=schema, write_disposition=\"WRITE_TRUNCATE\")\n",
    "        client = bigquery.Client.from_service_account_json('google_token.json')\n",
    "        prefix = 'taptap-c2c5f.manual_dwh.appflyer_event_organic_android_'\n",
    "        table_id = prefix + input_date.replace(\"-\",\"\",2)\n",
    "        print(table_id)\n",
    "        job = client.load_table_from_json(\n",
    "            json_list, table_id, job_config=job_config\n",
    "        ) \n",
    "        print(job.result())"
   ]
  },
  {
   "cell_type": "code",
   "execution_count": 3,
   "id": "2e637c59-c102-4ca1-93b1-a81769b9c145",
   "metadata": {},
   "outputs": [
    {
     "name": "stdout",
     "output_type": "stream",
     "text": [
      "https://hq.appsflyer.com/export/id1487758263/in_app_events_report/v5?api_token=f3a280b5-1a55-4a4d-b2c2-1fba22662a13&from=2022-01-25&to=2022-01-25&timezone=Asia%2fHo_Chi_Minh&additional_fields=device_model,keyword_id,store_reinstall,deeplink_url,oaid,install_app_store,contributor1_match_type,contributor2_match_type,contributor3_match_type,match_type,device_category,gp_referrer,gp_click_time,gp_install_begin,amazon_aid,keyword_match_type,att,conversion_type,campaign_type,is_lat&maximum_rows=1000000\n"
     ]
    },
    {
     "name": "stderr",
     "output_type": "stream",
     "text": [
      "C:\\Users\\vu.d.ngo\\anaconda3\\lib\\site-packages\\IPython\\core\\interactiveshell.py:3165: DtypeWarning: Columns (14,21,29,79,83,96) have mixed types.Specify dtype option on import or set low_memory=False.\n",
      "  has_raised = await self.run_ast_nodes(code_ast.body, cell_name,\n"
     ]
    },
    {
     "name": "stdout",
     "output_type": "stream",
     "text": [
      "taptap-c2c5f.manual_dwh.appflyer_event_non_organic_ios_20220125\n",
      "LoadJob<project=taptap-c2c5f, location=US, id=064b1562-27c8-4cd2-b108-5eca600ff132>\n"
     ]
    }
   ],
   "source": [
    "import io\n",
    "import json\n",
    "import requests\n",
    "import pandas as pd\n",
    "from google.cloud import bigquery\n",
    "from datetime import datetime, timedelta\n",
    "\n",
    "\n",
    "d = datetime(2022,1,25)\n",
    "input_date = d.strftime(\"%Y-%m-%d\")\n",
    "\n",
    "base_url = \"url\"\n",
    "\n",
    "url = base_url.replace(\"input_date\", input_date, 2)\n",
    "print(url)\n",
    "re = requests.get(url)\n",
    "data = re.content\n",
    "df = pd.read_csv(io.StringIO(data.decode('utf-8')))\n",
    "new_col_name = []\n",
    "schema = []\n",
    "for name in df.columns:\n",
    "    new_col_name.append(\"_\".join(name.split(\" \")))\n",
    "    schema.append(bigquery.SchemaField(\"_\".join(name.split(\" \")), bigquery.enums.SqlTypeNames.STRING))\n",
    "df.columns = new_col_name\n",
    "result = df.to_json(orient=\"records\")\n",
    "json_list = json.loads(result)\n",
    "for i in json_list:\n",
    "    for key in i.keys():\n",
    "        i[key] = str(i[key])\n",
    "\n",
    "#     schema = []\n",
    "#     for name in df.columns:\n",
    "#         schema.append(bigquery.SchemaField(\"_\".join(name.split(\" \")), bigquery.enums.SqlTypeNames.STRING))\n",
    "job_config = bigquery.LoadJobConfig(schema=schema, write_disposition=\"WRITE_TRUNCATE\")\n",
    "\n",
    "client = bigquery.Client.from_service_account_json('google_token.json')\n",
    "\n",
    "prefix = 'taptap-c2c5f.manual_dwh.appflyer_event_non_organic_ios_'\n",
    "# prefix = 'taptap-c2c5f.manual_dwh.appflyer_event_organic_android_'\n",
    "table_id = prefix + input_date.replace(\"-\",\"\",2)\n",
    "print(table_id)\n",
    "job = client.load_table_from_json(\n",
    "    json_list, table_id, job_config=job_config\n",
    ") \n",
    "print(job.result())\n",
    "#lay lai organic ios 23"
   ]
  },
  {
   "cell_type": "code",
   "execution_count": null,
   "id": "8ed96109-5bf0-4cec-96f2-f7e11058e0c0",
   "metadata": {},
   "outputs": [],
   "source": [
    "import io\n",
    "import json\n",
    "import requests\n",
    "import pandas as pd\n",
    "from google.cloud import bigquery\n",
    "from datetime import datetime, timedelta\n",
    "\n",
    "\n",
    "d = datetime.today() - timedelta(days=1)\n",
    "input_date = d.strftime(\"%Y-%m-%d\")\n",
    "\n",
    "base_url = \"url\"\n",
    "url = base_url.replace(\"input_date\", input_date, 2)\n",
    "re = requests.get(url)\n",
    "data = re.content\n",
    "df = pd.read_csv(io.StringIO(data.decode('utf-8')))\n",
    "schema = []\n",
    "new_columns = []\n",
    "for name in df.columns:\n",
    "    schema.append(bigquery.SchemaField(\"_\".join(name.split(\" \")), bigquery.enums.SqlTypeNames.STRING))\n",
    "    new_columns.append(\"_\".join(name.split(\" \")))\n",
    "df.columns = new_columns\n",
    "result = df.to_json(orient=\"records\")\n",
    "json_list = json.loads(result)\n",
    "for i in json_list:\n",
    "    for key in i.keys():\n",
    "        i[key] = str(i[key])\n",
    "print(\"prepare content Done\")\n",
    "job_config = bigquery.LoadJobConfig(schema=schema, write_disposition=\"WRITE_TRUNCATE\")\n",
    "client = bigquery.Client.from_service_account_json('google_token.json')\n",
    "\n",
    "prefix = 'taptap-c2c5f.manual_dwh.appflyer_event_organic_ios_'\n",
    "# prefix = 'taptap-c2c5f.manual_dwh.appflyer_event_organic_android_'\n",
    "\n",
    "table_id = prefix + input_date.replace(\"-\",\"\",2)\n",
    "print(table_id)\n",
    "job = client.load_table_from_json(\n",
    "    json_list, table_id, job_config=job_config\n",
    ") \n",
    "print(job.result())\n"
   ]
  }
 ],
 "metadata": {
  "kernelspec": {
   "display_name": "Python 3",
   "language": "python",
   "name": "python3"
  },
  "language_info": {
   "codemirror_mode": {
    "name": "ipython",
    "version": 3
   },
   "file_extension": ".py",
   "mimetype": "text/x-python",
   "name": "python",
   "nbconvert_exporter": "python",
   "pygments_lexer": "ipython3",
   "version": "3.8.8"
  }
 },
 "nbformat": 4,
 "nbformat_minor": 5
}
