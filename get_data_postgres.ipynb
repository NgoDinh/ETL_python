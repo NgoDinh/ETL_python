{
 "cells": [
  {
   "cell_type": "code",
   "execution_count": null,
   "id": "df689edb-5d51-4616-813c-509308b74ec0",
   "metadata": {},
   "outputs": [],
   "source": [
    "import psycopg2\n",
    "import pandas.io.sql as psql\n",
    "import json\n",
    "from google.cloud import bigquery\n",
    "import gspread\n",
    "import pandas as pd\n",
    "from oauth2client.service_account import ServiceAccountCredentials\n",
    "\n",
    "#establishing the connection\n",
    "def get_data(input_db_name):\n",
    "    js = json.load(open(\"postgres_info.json\"))\n",
    "    db_name = input_db_name\n",
    "    conn = psycopg2.connect(\n",
    "       database=db_name, user=js['user'], password=js['password'], host=js['host'], port= js['port']\n",
    "    )\n",
    "\n",
    "    query_table = '''\n",
    "    select *\n",
    "    from information_schema.tables\n",
    "    where 1=1\n",
    "    and table_schema = 'public'\n",
    "    '''\n",
    "    df_name = psql.read_sql(query_table, conn)\n",
    "    for table in df_name[\"table_name\"]:\n",
    "            query_data = '''\n",
    "            select *\n",
    "            from {}\n",
    "            '''.format(table)\n",
    "            df = psql.read_sql(query_data, conn)\n",
    "\n",
    "            schema = []\n",
    "            new_columns = []\n",
    "            for name in df.columns:\n",
    "                schema.append(bigquery.SchemaField(\"_\".join(name.split(\" \")), bigquery.enums.SqlTypeNames.STRING))\n",
    "                new_columns.append(\"_\".join(name.split(\" \")))\n",
    "            df.columns = new_columns\n",
    "            result = df.to_json(orient=\"records\")\n",
    "            json_list = json.loads(result)\n",
    "            for i in json_list:\n",
    "                for key in i.keys():\n",
    "                    i[key] = str(i[key])\n",
    "            job_config = bigquery.LoadJobConfig(schema=schema, write_disposition=\"WRITE_TRUNCATE\")\n",
    "            client = bigquery.Client.from_service_account_json('google_token.json')\n",
    "            prefix = 'taptap-c2c5f.manual_dwh.postgres_'\n",
    "            table_id = prefix + db_name + \"__\" + table\n",
    "            print(table_id)\n",
    "            job = client.load_table_from_json(\n",
    "                json_list, table_id, job_config=job_config\n",
    "            ) \n",
    "            print(job.result())\n",
    "\n",
    "gc = gspread.service_account(\"gg_key.json\")\n",
    "sh = gc.open_by_url(\"https://docs.google.com/spreadsheets/d/1FD4Pz61dKjK4Kc5KU5gw93V6-kGeOd_eeIMVYcbJW2M/edit#gid=0\")\n",
    "worksheet = sh.get_worksheet(2)\n",
    "df_sheet = pd.DataFrame(worksheet.get_all_records())\n",
    "for i in range(df_sheet.shape[0]):\n",
    "#     cl = df_sheet.iloc[i]['collection_name']\n",
    "    db = df_sheet.iloc[i]['db_name']\n",
    "    get_data(db)"
   ]
  },
  {
   "cell_type": "code",
   "execution_count": 6,
   "id": "12d9ee92-0afd-411e-82d8-4c157d936f5a",
   "metadata": {},
   "outputs": [],
   "source": [
    "import json\n",
    "js = json.load(open(\"postgres_info.json\"))"
   ]
  },
  {
   "cell_type": "code",
   "execution_count": 7,
   "id": "8c34ab03-fe1c-4fd8-abd8-c13f8160e8f9",
   "metadata": {},
   "outputs": [
    {
     "data": {
      "text/plain": [
       "{'database': 'postgres',\n",
       " 'user': 'vu.d.ngo',\n",
       " 'password': 'AkSrsSlDbTfl7rLiSZ',\n",
       " 'host': 'pr-rds-postgres-01.ce8gqoct0v1p.ap-southeast-1.rds.amazonaws.com',\n",
       " 'port': '5432'}"
      ]
     },
     "execution_count": 7,
     "metadata": {},
     "output_type": "execute_result"
    }
   ],
   "source": [
    "js"
   ]
  },
  {
   "cell_type": "code",
   "execution_count": 8,
   "id": "735eabf4-7194-4786-af18-c9f2cd5eb222",
   "metadata": {},
   "outputs": [
    {
     "data": {
      "text/plain": [
       "'postgres'"
      ]
     },
     "execution_count": 8,
     "metadata": {},
     "output_type": "execute_result"
    }
   ],
   "source": [
    "js['database']"
   ]
  },
  {
   "cell_type": "code",
   "execution_count": null,
   "id": "878d60f1-51b6-48cc-95ec-86055d172e66",
   "metadata": {},
   "outputs": [],
   "source": [
    "import psycopg2 as pg\n",
    "import pandas.io.sql as psql\n",
    "connection = pg.connect(\"host=localhost dbname=kinder user=your_username password=your_password\")\n",
    "dataframe = psql.read_sql('SELECT * FROM product_product', connection)\n",
    "product_category = psql.read_sql_query('select * from product_category', connection)"
   ]
  }
 ],
 "metadata": {
  "kernelspec": {
   "display_name": "Python 3",
   "language": "python",
   "name": "python3"
  },
  "language_info": {
   "codemirror_mode": {
    "name": "ipython",
    "version": 3
   },
   "file_extension": ".py",
   "mimetype": "text/x-python",
   "name": "python",
   "nbconvert_exporter": "python",
   "pygments_lexer": "ipython3",
   "version": "3.8.8"
  }
 },
 "nbformat": 4,
 "nbformat_minor": 5
}
