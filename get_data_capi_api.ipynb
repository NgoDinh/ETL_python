{
 "cells": [
  {
   "cell_type": "code",
   "execution_count": 13,
   "id": "93ebd0f1-6c4c-4573-b4ef-9808e855efcf",
   "metadata": {},
   "outputs": [
    {
     "name": "stdout",
     "output_type": "stream",
     "text": [
      "taptap-c2c5f.manual_dwh.capillary_reward_list\n",
      "LoadJob<project=taptap-c2c5f, location=US, id=995eb528-4ac2-46f9-a69a-9e8e68b605e5>\n"
     ]
    }
   ],
   "source": [
    "import requests\n",
    "import json\n",
    "import pandas as pd\n",
    "from google.cloud import bigquery\n",
    "\n",
    "re = requests.get(\"https://apac2-s3wrapper.capillarytech.com/core/v1/reward/brand/6\", headers={\"Authorization\":\"Basic YWRtaW46YWRtaW4=\"})\n",
    "data = json.loads(re.content)\n",
    "data = data['rewardList']\n",
    "\n",
    "for i in data:\n",
    "        for key in i.keys():\n",
    "                i[key] = str(i[key])\n",
    "\n",
    "df1 = pd.DataFrame.from_records(data)\n",
    "data = []\n",
    "for i in range(len(df1)):\n",
    "    data.append(json.loads(df1.iloc[i, :].to_json()))\n",
    "\n",
    "#find schema\n",
    "schema = []\n",
    "new_col_name = []\n",
    "for name in data[0].keys():\n",
    "    new_col_name.append(\"_\".join(name.split(\" \")))\n",
    "    schema.append(bigquery.SchemaField(\"_\".join(name.split(\" \")), bigquery.enums.SqlTypeNames.STRING))\n",
    "\n",
    "#connect to bigquery\n",
    "client = bigquery.Client.from_service_account_json('google_token.json')\n",
    "job_config = bigquery.LoadJobConfig(\n",
    "    schema=schema,\n",
    "    write_disposition=\"WRITE_TRUNCATE\",\n",
    ")\n",
    "table_id = 'taptap-c2c5f.manual_dwh.capillary_reward_list'\n",
    "print(table_id)\n",
    "\n",
    "job = client.load_table_from_json(\n",
    "    data, table_id, job_config=job_config\n",
    ")\n",
    "print(job.result())"
   ]
  }
 ],
 "metadata": {
  "kernelspec": {
   "display_name": "Python 3",
   "language": "python",
   "name": "python3"
  },
  "language_info": {
   "codemirror_mode": {
    "name": "ipython",
    "version": 3
   },
   "file_extension": ".py",
   "mimetype": "text/x-python",
   "name": "python",
   "nbconvert_exporter": "python",
   "pygments_lexer": "ipython3",
   "version": "3.9.16"
  },
  "vscode": {
   "interpreter": {
    "hash": "49b93353fad7922ff6cc3158da9ee4b19d654b946002ffecd84e478890dd0665"
   }
  }
 },
 "nbformat": 4,
 "nbformat_minor": 5
}
