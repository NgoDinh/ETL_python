{
  "nbformat": 4,
  "nbformat_minor": 0,
  "metadata": {
    "colab": {
      "name": "crawl_vinmart.ipynb",
      "provenance": [],
      "collapsed_sections": []
    },
    "kernelspec": {
      "name": "python3",
      "display_name": "Python 3"
    },
    "language_info": {
      "name": "python"
    }
  },
  "cells": [
    {
      "cell_type": "code",
      "metadata": {
        "id": "VDN4r9F3YtwW"
      },
      "source": [
        "!pip install selenium\n",
        "!apt-get update \n",
        "!apt install chromium-chromedriver\n",
        "\n",
        "import re\n",
        "import math\n",
        "import gspread\n",
        "import pandas as pd\n",
        "from google.colab import auth\n",
        "from selenium import webdriver\n",
        "from IPython.display import clear_output \n",
        "from oauth2client.client import GoogleCredentials\n",
        "from gspread_dataframe import get_as_dataframe, set_with_dataframe\n",
        "\n",
        "chrome_options = webdriver.ChromeOptions()\n",
        "chrome_options.add_argument('--headless')\n",
        "chrome_options.add_argument('--no-sandbox')\n",
        "chrome_options.add_argument('--disable-dev-shm-usage')\n",
        "wd = webdriver.Chrome('chromedriver',chrome_options=chrome_options)\n",
        "driver =webdriver.Chrome('chromedriver',chrome_options=chrome_options)\n",
        "\n",
        "clear_output()"
      ],
      "execution_count": null,
      "outputs": []
    },
    {
      "cell_type": "code",
      "metadata": {
        "id": "SUhqVkAMY8FK"
      },
      "source": [
        "def get_keyword():\n",
        "  auth.authenticate_user()\n",
        "  gc = gspread.authorize(GoogleCredentials.get_application_default())\n",
        "  wb = gc.open_by_url('https://docs.google.com/spreadsheets/d/10qKxpIl2IADvZqOoxrJRofz6M8_wikBL8JhsuGWfsKE/edit#gid=0')\n",
        "  worksheet = wb.worksheet(\"Sheet1\")\n",
        "  key_word_list = worksheet.col_values(1)\n",
        "  return key_word_list\n",
        "\n",
        "def listToString(s): \n",
        "    str1 = \"-\" \n",
        "    return (str1.join(s))"
      ],
      "execution_count": null,
      "outputs": []
    },
    {
      "cell_type": "code",
      "metadata": {
        "id": "k3iXpxIoZCZX"
      },
      "source": [
        "from selenium import webdriver\n",
        "from selenium.webdriver.support.ui import WebDriverWait\n",
        "from selenium.webdriver.support import expected_conditions as EC\n",
        "from selenium.webdriver.common.by import By\n",
        "from selenium.common.exceptions import TimeoutException\n",
        "\n",
        "main_url = 'https://vinmart.com/searchpves/searchkeywork'\n",
        "kw_list = []\n",
        "name_list = []\n",
        "price_list = []\n",
        "unit_list = []\n",
        "unit = ['hộp','chai','gói','lốc','thùng','bộ','lon','bịch','hũ']\n",
        "times = 100\n",
        "for key_word in get_keyword():\n",
        "  if key_word != 'keyword':\n",
        "    key_word = key_word.replace(\" \",\"-\")\n",
        "    url = main_url.replace(\"searchkeywork\", key_word)\n",
        "    for i in range(times):\n",
        "      final_url = url + \"?p=\" + str(i+1)\n",
        "      # print(final_url)\n",
        "      driver.get(final_url)\n",
        "      # print(len(driver.find_elements_by_class_name(\"product-name\")))\n",
        "      if len(driver.find_elements_by_class_name(\"product-name\"))== 0:\n",
        "        # print(\"no result\")\n",
        "        break\n",
        "      else:\n",
        "        all_name = driver.find_elements_by_class_name(\"product-name\")\n",
        "        all_price = driver.find_elements_by_class_name(\"product-price\")\n",
        "        if len(all_name) == len(all_price):\n",
        "          for name in all_name:\n",
        "            unit_tmp = []\n",
        "            name_list.append(name.text)\n",
        "            kw_list.append(key_word)\n",
        "            for i in unit:\n",
        "              if str(name.text).lower().find(i)>= 0:\n",
        "                unit_tmp.append(i)\n",
        "            unit_list.append(listToString(unit_tmp))          \n",
        "          for price in all_price:\n",
        "            price_list.append(price.text)\n",
        "        else:\n",
        "          print(\"len no match name = \"+str(len(all_name))+\" price = \"+str(len(all_price)))\n",
        "    if len(price_list) != len(name_list):\n",
        "      break\n",
        "      # finally:\n",
        "      #     print(\"time out\")\n"
      ],
      "execution_count": null,
      "outputs": []
    },
    {
      "cell_type": "code",
      "metadata": {
        "id": "FxEroQ09a9sx"
      },
      "source": [
        "df = pd.DataFrame({'keyword':kw_list, 'name': name_list, 'price': price_list, 'unit': unit_list})\n",
        "\n",
        "auth.authenticate_user()\n",
        "gc = gspread.authorize(GoogleCredentials.get_application_default())\n",
        "wb = gc.open_by_url('https://docs.google.com/spreadsheets/d/10qKxpIl2IADvZqOoxrJRofz6M8_wikBL8JhsuGWfsKE/edit#gid=0')\n",
        "worksheet = wb.worksheet(\"raw\")\n",
        "set_with_dataframe(worksheet, df)"
      ],
      "execution_count": null,
      "outputs": []
    },
    {
      "cell_type": "code",
      "metadata": {
        "id": "mZOcSC4TvS2I"
      },
      "source": [
        ""
      ],
      "execution_count": null,
      "outputs": []
    }
  ]
}