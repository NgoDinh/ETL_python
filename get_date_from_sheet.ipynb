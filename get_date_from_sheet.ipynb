{
 "cells": [
  {
   "cell_type": "code",
   "execution_count": 14,
   "id": "856d765c-18b1-426d-a77c-3b65a3bc5374",
   "metadata": {},
   "outputs": [
    {
     "name": "stdout",
     "output_type": "stream",
     "text": [
      "a b\n"
     ]
    }
   ],
   "source": [
    "import requests\n",
    "import json\n",
    "import io\n",
    "import gspread\n",
    "import pandas as pd\n",
    "from oauth2client.service_account import ServiceAccountCredentials\n",
    "from zipfile import ZipFile\n",
    "from google.cloud import bigquery\n",
    "from datetime import datetime, timedelta\n",
    "\n",
    "\n",
    "gc = gspread.service_account(\"gg_key.json\")\n",
    "sh = gc.open_by_url(\"https://docs.google.com/spreadsheets/d/1FD4Pz61dKjK4Kc5KU5gw93V6-kGeOd_eeIMVYcbJW2M/edit#gid=0\")\n",
    "worksheet = sh.get_worksheet(1)\n",
    "df_sheet = pd.DataFrame(worksheet.get_all_records())\n",
    "for i in range(df_sheet.shape[0]):\n",
    "    cl = df_sheet.iloc[i]['collection_name']\n",
    "    db = df_sheet.iloc[i]['database_name']\n",
    "    print(url,name)"
   ]
  },
  {
   "cell_type": "code",
   "execution_count": null,
   "id": "24df923c-6e48-432c-ac0b-a4a663f46759",
   "metadata": {},
   "outputs": [],
   "source": []
  }
 ],
 "metadata": {
  "kernelspec": {
   "display_name": "Python 3",
   "language": "python",
   "name": "python3"
  },
  "language_info": {
   "codemirror_mode": {
    "name": "ipython",
    "version": 3
   },
   "file_extension": ".py",
   "mimetype": "text/x-python",
   "name": "python",
   "nbconvert_exporter": "python",
   "pygments_lexer": "ipython3",
   "version": "3.8.8"
  }
 },
 "nbformat": 4,
 "nbformat_minor": 5
}
