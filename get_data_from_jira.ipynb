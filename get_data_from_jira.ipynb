{
 "cells": [
  {
   "cell_type": "code",
   "execution_count": 107,
   "id": "a84813dd-aca1-4705-9c80-389e7ef787ed",
   "metadata": {},
   "outputs": [
    {
     "name": "stdout",
     "output_type": "stream",
     "text": [
      "LoadJob<project=taptap-c2c5f, location=US, id=3c7e45f8-53ff-4ab4-afeb-a7499658140e>\n"
     ]
    }
   ],
   "source": [
    "import math\n",
    "import json\n",
    "import datetime\n",
    "import pandas as pd\n",
    "from jira import JIRA\n",
    "from oauth2client.service_account import ServiceAccountCredentials\n",
    "from google.cloud import bigquery\n",
    "\n",
    "table_suffix = (datetime.datetime.now().replace(hour=0, minute=0, second=0, microsecond=0) - datetime.timedelta(days=1)).strftime(\"%Y%m%d\")\n",
    "check_date = datetime.datetime.now().replace(hour=0, minute=0, second=0, microsecond=0) - datetime.timedelta(days=45)\n",
    "check_date_string = (datetime.datetime.now().replace(hour=0, minute=0, second=0, microsecond=0) - datetime.timedelta(days=45)).strftime(\"%Y-%m-%d\")\n",
    "\n",
    "jiraOptions = {'server': \"server\"}\n",
    "jira = JIRA(options=jiraOptions, basic_auth=(\n",
    "    \"name\", \"token\"))\n",
    "\n",
    "project_name = 'RECRUITMENT'\n",
    "issues = jira.search_issues('project = \"{}\"'.format(project_name),0,1)\n",
    "number_issue = int(issues[0].key.split(\"-\")[1])\n",
    "number_page = math.ceil(number_issue/100)\n",
    "\n",
    "all_data = []\n",
    "for i in range(number_page):\n",
    "    all_issue = jira.search_issues('project = \"{}\" and created > \"{}\"'.format(project_name, check_date_string),i*100,100)\n",
    "\n",
    "    for singleIssue in all_issue:\n",
    "        all_data.append([singleIssue.key, singleIssue.fields.summary, singleIssue.fields.reporter.displayName, singleIssue.fields.status.name, singleIssue.fields.created])\n",
    "        \n",
    "df = pd.DataFrame(all_data)\n",
    "df.columns = [\"key\", \"name\", \"reporter\", \"status\", \"created_at\"]\n",
    "df = df.set_index(\"key\")\n",
    "df[\"created_at\"] = pd.to_datetime(df.created_at.str.slice(0,10))\n",
    "df = df[(df.created_at > check_date)]\n",
    "\n",
    "for key in df.index:\n",
    "    changelog = jira.issue(key, expand='changelog').changelog\n",
    "\n",
    "    for history in changelog.histories:\n",
    "        for item in history.items:\n",
    "            if item.field == 'status':\n",
    "                all_change_log.append([key, history.created, item.fromString, item.toString])\n",
    "                \n",
    "df1 = pd.DataFrame(all_change_log)\n",
    "df1.columns = [\"key\", \"updated_at\", \"from\", \"to\"]\n",
    "df1 = df1.set_index(\"key\")\n",
    "\n",
    "df2 = df.join(df1)\n",
    "df2[\"updated_at\"] = pd.to_datetime(df2.updated_at.str.slice(0,10))\n",
    "df2 = df2.reset_index()\n",
    "\n",
    "data = []\n",
    "for i in range(len(df2)):\n",
    "    data.append(json.loads(df2.iloc[i, :].to_json()))\n",
    "\n",
    "#find schema\n",
    "schema = []\n",
    "new_col_name = []\n",
    "for name in data[0].keys():\n",
    "    new_col_name.append(\"_\".join(name.split(\" \")))\n",
    "    schema.append(bigquery.SchemaField(\"_\".join(name.split(\" \")), bigquery.enums.SqlTypeNames.STRING))\n",
    "\n",
    "#connect to bigquery\n",
    "client = bigquery.Client.from_service_account_json('google_token.json')\n",
    "job_config = bigquery.LoadJobConfig(\n",
    "    schema=schema,\n",
    "    write_disposition=\"WRITE_TRUNCATE\",\n",
    ")\n",
    "table_id = \"taptap-c2c5f.manual_dwh.jira_hr_\" + table_suffix\n",
    "job = client.load_table_from_json(\n",
    "    data, table_id, job_config=job_config\n",
    ")\n",
    "print(job.result())"
   ]
  }
 ],
 "metadata": {
  "kernelspec": {
   "display_name": "Python 3",
   "language": "python",
   "name": "python3"
  },
  "language_info": {
   "codemirror_mode": {
    "name": "ipython",
    "version": 3
   },
   "file_extension": ".py",
   "mimetype": "text/x-python",
   "name": "python",
   "nbconvert_exporter": "python",
   "pygments_lexer": "ipython3",
   "version": "3.9.16"
  },
  "vscode": {
   "interpreter": {
    "hash": "49b93353fad7922ff6cc3158da9ee4b19d654b946002ffecd84e478890dd0665"
   }
  }
 },
 "nbformat": 4,
 "nbformat_minor": 5
}
